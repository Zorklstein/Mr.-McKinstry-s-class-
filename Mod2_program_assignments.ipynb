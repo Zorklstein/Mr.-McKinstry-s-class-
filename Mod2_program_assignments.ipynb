{
 "cells": [
  {
   "cell_type": "code",
   "execution_count": 1,
   "id": "53fbba7f-5b7f-4d6f-b7dd-3a6688e02941",
   "metadata": {},
   "outputs": [
    {
     "name": "stdin",
     "output_type": "stream",
     "text": [
      "pick a number between 1 and 10:  5\n",
      "guess a number between 1 and 10:  3\n"
     ]
    },
    {
     "name": "stdout",
     "output_type": "stream",
     "text": [
      "3 is less than the secret\n"
     ]
    }
   ],
   "source": [
    "#4.1\n",
    "secret = int(input(\"pick a number between 1 and 10: \"))\n",
    "guess = int (input(\"guess a number between 1 and 10: \"))\n",
    "\n",
    "if guess == secret:\n",
    "    print(f\"{guess} is equal to {secret}\")\n",
    "elif guess < secret:\n",
    "    print(f\"{guess} is less than the secret\")\n",
    "elif guess > secret:\n",
    "    print(f\"{guess} is greater than to secret\")\n",
    "\n"
   ]
  },
  {
   "cell_type": "code",
   "execution_count": 2,
   "id": "6a21f700-0ca9-4995-8eeb-7796a6167cab",
   "metadata": {},
   "outputs": [
    {
     "name": "stdout",
     "output_type": "stream",
     "text": [
      "pea\n"
     ]
    }
   ],
   "source": [
    "#4.2\n",
    "small = True\n",
    "green = True\n",
    "\n",
    "if small == True and green == True:\n",
    "    print(\"pea\")\n",
    "elif small == False and green == True:\n",
    "    print(\"watermelon\")\n",
    "elif small == True and green == False:\n",
    "    print(\"cherry\")\n",
    "elif small == False and green == False:\n",
    "    print(\"pumpkin\")\n"
   ]
  },
  {
   "cell_type": "code",
   "execution_count": 9,
   "id": "090ecfb6-7c11-4191-9f77-d05fe5d8a6f7",
   "metadata": {},
   "outputs": [
    {
     "name": "stdout",
     "output_type": "stream",
     "text": [
      "0\n",
      "1\n",
      "2\n",
      "3\n"
     ]
    }
   ],
   "source": [
    "#6.1\n",
    "listOne = [3,2,1,0]\n",
    "\n",
    "for index in listOne:\n",
    "    print(listOne[index])"
   ]
  },
  {
   "cell_type": "code",
   "execution_count": 4,
   "id": "ce95a814-7405-4f26-8845-ad3816c0ed69",
   "metadata": {},
   "outputs": [
    {
     "name": "stdin",
     "output_type": "stream",
     "text": [
      "guess a number between 1 and 10:  1\n"
     ]
    },
    {
     "name": "stdout",
     "output_type": "stream",
     "text": [
      "1 is less than the secret\n"
     ]
    },
    {
     "name": "stdin",
     "output_type": "stream",
     "text": [
      "guess a number between 1 and 10 9\n"
     ]
    },
    {
     "name": "stdout",
     "output_type": "stream",
     "text": [
      "9 is greater than to secret\n"
     ]
    },
    {
     "name": "stdin",
     "output_type": "stream",
     "text": [
      "guess a number between 1 and 10 7\n"
     ]
    },
    {
     "name": "stdout",
     "output_type": "stream",
     "text": [
      "you guessed the secret number 7\n"
     ]
    }
   ],
   "source": [
    "#6.2\n",
    "secret = 7\n",
    "\n",
    "guess = int (input(\"guess a number between 1 and 10: \"))\n",
    "\n",
    "while guess != secret:\n",
    "    if guess < secret:\n",
    "        print(f\"{guess} is less than the secret\")\n",
    "        guess = int(input(\"guess a number between 1 and 10: \"))\n",
    "    elif guess > secret:\n",
    "        print(f\"{guess} is greater than to secret\")\n",
    "        guess = int(input(\"guess a number between 1 and 10: \"))\n",
    "print(f\"you guessed the secret number {secret}\")\n"
   ]
  },
  {
   "cell_type": "code",
   "execution_count": 13,
   "id": "3489f981-31fa-41de-9c42-78714b15c17d",
   "metadata": {},
   "outputs": [
    {
     "name": "stdout",
     "output_type": "stream",
     "text": [
      "too low\n",
      "too low\n",
      "too low\n",
      "too low\n",
      "too low\n",
      "found it\n"
     ]
    }
   ],
   "source": [
    "#6.3\n",
    "guess = 5\n",
    "\n",
    "for number in range(10):\n",
    "    if guess == number:\n",
    "        print(\"found it\")\n",
    "        break\n",
    "    elif guess > number:\n",
    "        print(\"too low\")\n",
    "    elif guess < number:\n",
    "        print(\"oops\")\n",
    "        break\n",
    "        "
   ]
  }
 ],
 "metadata": {
  "kernelspec": {
   "display_name": "Python [conda env:base] *",
   "language": "python",
   "name": "conda-base-py"
  },
  "language_info": {
   "codemirror_mode": {
    "name": "ipython",
    "version": 3
   },
   "file_extension": ".py",
   "mimetype": "text/x-python",
   "name": "python",
   "nbconvert_exporter": "python",
   "pygments_lexer": "ipython3",
   "version": "3.13.5"
  }
 },
 "nbformat": 4,
 "nbformat_minor": 5
}
